{
 "cells": [
  {
   "metadata": {
    "ExecuteTime": {
     "end_time": "2024-08-30T20:37:06.538902Z",
     "start_time": "2024-08-30T20:37:03.070795Z"
    }
   },
   "cell_type": "code",
   "source": [
    "import os\n",
    "from tqdm.notebook import tqdm\n",
    "from datetime import datetime\n",
    "\n",
    "import numpy as np\n",
    "\n",
    "import torchvision\n",
    "\n",
    "import torch\n",
    "import torch.nn as nn\n",
    "import torch.nn.functional as F\n",
    "from torch.utils.tensorboard import SummaryWriter\n",
    "\n",
    "from matplotlib import pyplot as plt"
   ],
   "id": "66941f15738a7c47",
   "outputs": [],
   "execution_count": 1
  },
  {
   "metadata": {
    "ExecuteTime": {
     "end_time": "2024-08-30T20:37:06.547263Z",
     "start_time": "2024-08-30T20:37:06.540221Z"
    }
   },
   "cell_type": "code",
   "source": [
    "TRAIN_SIZE = 20\n",
    "VAL_SIZE = 100\n",
    "POOL_SIZE = 60_000 - (TRAIN_SIZE + VAL_SIZE)\n",
    "print(f\"train size: {TRAIN_SIZE:_}, val size: {VAL_SIZE:_}, pool size: {POOL_SIZE:_}\")\n",
    "\n",
    "DATA_PATH = '/Users/pascalpilz/Documents/Bsc Thesis/data/mnist/'\n",
    "MODEL_SAVE_PATH = '/Users/pascalpilz/Documents/Bsc Thesis/models/'\n",
    "\n",
    "SEED = 1\n",
    "\n",
    "torch.manual_seed(SEED)\n",
    "np.random.seed(SEED)"
   ],
   "id": "714e342b5bb625d9",
   "outputs": [
    {
     "name": "stdout",
     "output_type": "stream",
     "text": [
      "train size: 20, val size: 100, pool size: 59_880\n"
     ]
    }
   ],
   "execution_count": 2
  },
  {
   "metadata": {},
   "cell_type": "markdown",
   "source": "# Data Loading",
   "id": "551f1e14786a5a38"
  },
  {
   "metadata": {
    "ExecuteTime": {
     "end_time": "2024-08-30T20:37:15.729394Z",
     "start_time": "2024-08-30T20:37:06.548252Z"
    }
   },
   "cell_type": "code",
   "source": [
    "torch.manual_seed(SEED)\n",
    "np.random.seed(SEED)\n",
    "\n",
    "transform = torchvision.transforms.Compose(\n",
    "    [torchvision.transforms.ToTensor(),\n",
    "     # we do this bc the images are 28x28 but the network expects 32x32\n",
    "     torchvision.transforms.Pad(2),\n",
    "     # 0.10003718,  are mean and std of train set after padding (without padding it is 0.1307 and 0.3081)\n",
    "     torchvision.transforms.Normalize((0.10003718,), (0.2752173,)),\n",
    "     ])\n",
    "\n",
    "# getting the test and train set\n",
    "mnist_train = torchvision.datasets.MNIST(root=DATA_PATH, train=True, transform=transform)\n",
    "mnist_test = torchvision.datasets.MNIST(root=DATA_PATH, train=False, transform=transform)\n",
    "\n",
    "# splitting train further into train and val\n",
    "train, val = torch.utils.data.random_split(mnist_train, [TRAIN_SIZE + POOL_SIZE, VAL_SIZE])\n",
    "\n",
    "# creating data loaders\n",
    "# having batch size equal to the size of the dataset to get the whole dataset in one batch\n",
    "# enables us to get the whole dataset at once when iterating over the loader\n",
    "train_loader = torch.utils.data.DataLoader(train, batch_size=len(train), shuffle=True)\n",
    "val_loader = torch.utils.data.DataLoader(val, batch_size=len(val), shuffle=True)\n",
    "test_loader = torch.utils.data.DataLoader(mnist_test, batch_size=len(mnist_test), shuffle=True)\n",
    "\n",
    "X_train_all, y_train_all = next(iter(train_loader))\n",
    "X_val, y_val = next(iter(val_loader))\n",
    "X_test, y_test = next(iter(test_loader))\n",
    "\n",
    "# creating a random but balanced initial training set\n",
    "idx = []\n",
    "for num in range(10):\n",
    "    indices = torch.where(y_train_all == num)[0]\n",
    "    idx += list(np.random.choice(indices, 2, replace=False))\n",
    "idx = torch.tensor(idx)\n",
    "\n",
    "X_train = X_train_all[idx]\n",
    "y_train = y_train_all[idx]\n",
    "\n",
    "X_pool = X_train_all[~torch.isin(torch.arange(len(X_train_all)), idx)]\n",
    "y_pool = y_train_all[~torch.isin(torch.arange(len(X_train_all)), idx)]\n",
    "\n",
    "print(f\"train .. size: {len(X_train):6_}, mean: {X_train.mean():6.3f}, std: {X_train.std():6.3f}\")\n",
    "print(f\"val .... size: {len(X_val):6_}, mean: {X_val.mean():6.3f}, std: {X_val.std():6.3f}\")\n",
    "print(f\"pool ... size: {len(X_pool):6_}, mean: {X_pool.mean():6.3f}, std: {X_pool.std():6.3f}\")\n",
    "print(f\"test ... size: {len(X_test):6_}, mean: {X_test.mean():6.3f}, std: {X_test.std():6.3f}\")\n",
    "\n",
    "plt.hist([y_train, y_val, y_pool, y_test], bins=range(0, 11), density=True, label=['train', 'val', 'pool', 'test'])\n",
    "\n",
    "# set x ticks\n",
    "plt.xticks(np.linspace(0.5, 9.5, 10), np.arange(0, 10))\n",
    "plt.legend()\n",
    "plt.show()\n",
    "\n",
    "val_set = torch.utils.data.TensorDataset(X_val, y_val) \n",
    "test_set = torch.utils.data.TensorDataset(X_test, y_test)\n",
    "\n",
    "val_loader = torch.utils.data.DataLoader(val_set, batch_size=4, shuffle=True)\n",
    "test_loader = torch.utils.data.DataLoader(test_set, batch_size=4, shuffle=True)"
   ],
   "id": "56b7b2fd0fc0fb67",
   "outputs": [
    {
     "name": "stdout",
     "output_type": "stream",
     "text": [
      "train .. size:     20, mean:  0.028, std:  1.033\n",
      "val .... size:    100, mean: -0.004, std:  0.997\n",
      "pool ... size: 59_880, mean: -0.000, std:  1.000\n",
      "test ... size: 10_000, mean:  0.005, std:  1.008\n"
     ]
    },
    {
     "data": {
      "text/plain": [
       "<Figure size 640x480 with 1 Axes>"
      ],
      "image/png": "[encoded data removed]"
     },
     "metadata": {},
     "output_type": "display_data"
    }
   ],
   "execution_count": 3
  },
  {
   "metadata": {},
   "cell_type": "markdown",
   "source": "# Model",
   "id": "89cbe0838f4f82b3"
  },
  {
   "metadata": {
    "ExecuteTime": {
     "end_time": "2024-08-30T20:37:15.738032Z",
     "start_time": "2024-08-30T20:37:15.732309Z"
    }
   },
   "cell_type": "code",
   "source": [
    "class LeNet(nn.Module):\n",
    "    \n",
    "    def __init__(self):\n",
    "         super(LeNet, self).__init__()\n",
    "         self.conv1 = nn.Conv2d(1, 6, 5)\n",
    "         self.conv2 = nn.Conv2d(6, 16, 5)\n",
    "         self.pool = nn.MaxPool2d(2)\n",
    "         self.do1 = nn.Dropout(0.25)  # 0.25 chosen as in Gal et al. 2016\n",
    "         self.do2 = nn.Dropout(0.5)  # 0.5 chosen as in Gal et al. 2016\n",
    "         self.fc1 = nn.Linear(16 * 5 * 5, 120)  # images are 5x5 with 16 channels\n",
    "         self.fc2 = nn.Linear(120, 84)\n",
    "         self.fc3 = nn.Linear(84, 10)\n",
    "         \n",
    "    def forward(self, x):               # x.shape = (b, 32, 32), where b is batch size\n",
    "        c1 = F.relu(self.conv1(x))      # c1.shape = (b, 6, 28, 28)\n",
    "        p2 = self.pool(c1)              # p2.shape = (b, 6, 12, 12)\n",
    "        c3 = F.relu(self.conv2(p2))     # c3.shape = (b, 16, 10, 10)\n",
    "        p4 = self.pool(c3)              # p4.shape = (b, 16, 5, 5)\n",
    "        p5 = torch.flatten(p4, 1)       # p5.shape = (b, 16*5*5) = (b, 400)\n",
    "        d6 = self.do1(p5)               # d6.shape = (b, 400)\n",
    "        f7 = F.relu(self.fc1(d6))       # f6.shape = (b, 120)\n",
    "        d8 = self.do2(f7)               # d8.shape = (b, 12)\n",
    "        f9 = F.relu(self.fc2(d8))       # f9.shape = (b, 84)\n",
    "        output = self.fc3(f9)           # output.shape = (b, 10)\n",
    "        return output"
   ],
   "id": "9cdc6433a738499d",
   "outputs": [],
   "execution_count": 4
  },
  {
   "metadata": {},
   "cell_type": "markdown",
   "source": "# Training and Testing Functions",
   "id": "239616c036679337"
  },
  {
   "metadata": {
    "ExecuteTime": {
     "end_time": "2024-08-30T20:37:15.745177Z",
     "start_time": "2024-08-30T20:37:15.739869Z"
    }
   },
   "cell_type": "code",
   "source": [
    "def train_one_epoch(model,\n",
    "                    optimizer,\n",
    "                    loss_fn,\n",
    "                    train_loader,\n",
    "                    epoch_index,\n",
    "                    tb_writer,\n",
    "                    write_at=1000,\n",
    "                    verbose=False):\n",
    "    \n",
    "    running_loss = 0.\n",
    "    last_loss = 0.\n",
    "\n",
    "    for i, (inputs, labels) in enumerate(train_loader):\n",
    "\n",
    "        optimizer.zero_grad()\n",
    "        outputs = model(inputs)\n",
    "        loss = loss_fn(outputs, labels)\n",
    "        loss.backward()\n",
    "        optimizer.step()\n",
    "\n",
    "        # Gather data and report\n",
    "        running_loss += loss.item()\n",
    "        if i % write_at == write_at-1:\n",
    "            last_loss = running_loss / write_at # loss per batch\n",
    "            if verbose:\n",
    "                print(f'  batch {i + 1:7_d} train loss: {last_loss:6.4f}')\n",
    "            tb_x = epoch_index * len(train_loader) + i + 1\n",
    "            tb_writer.add_scalar('Loss/train', last_loss, tb_x)\n",
    "            running_loss = 0.\n",
    "\n",
    "    return last_loss"
   ],
   "id": "5b5dc12bff36bf85",
   "outputs": [],
   "execution_count": 5
  },
  {
   "metadata": {
    "ExecuteTime": {
     "end_time": "2024-08-30T20:37:15.753894Z",
     "start_time": "2024-08-30T20:37:15.747188Z"
    }
   },
   "cell_type": "code",
   "source": [
    "def run_training(model,\n",
    "                 train_loader,\n",
    "                 val_loader,\n",
    "                 optimizer,\n",
    "                 loss_fn,\n",
    "                 n_epochs=5,\n",
    "                 verbose=False):\n",
    "\n",
    "    timestamp = datetime.now().strftime('%Y%m%d_%H%M%S')\n",
    "    writer = SummaryWriter(f'runs/mnist_trainer_{timestamp}')\n",
    "    model_path = MODEL_SAVE_PATH + str(timestamp) + '/'\n",
    "    os.makedirs(model_path, exist_ok=True)\n",
    "    best_vloss = np.inf\n",
    "    \n",
    "    for epoch in range(n_epochs):\n",
    "        if verbose:\n",
    "            print('EPOCH {}:'.format(epoch + 1))\n",
    "    \n",
    "        model.train(True)\n",
    "        avg_loss = train_one_epoch(model=model,\n",
    "                                   optimizer=optimizer,\n",
    "                                   loss_fn=loss_fn,\n",
    "                                   train_loader=train_loader,\n",
    "                                   epoch_index=epoch,\n",
    "                                   tb_writer=writer,\n",
    "                                   write_at=5000,\n",
    "                                   verbose=verbose)\n",
    "    \n",
    "        running_vloss = 0.0\n",
    "        model.eval()\n",
    "    \n",
    "        # Disable gradient computation and reduce memory consumption.\n",
    "        with torch.no_grad():\n",
    "            for i, (vinputs, vlabels) in enumerate(val_loader):\n",
    "                voutputs = net(vinputs)\n",
    "                vloss = loss_fn(voutputs, vlabels)\n",
    "                running_vloss += vloss\n",
    "    \n",
    "        avg_vloss = running_vloss / (i + 1)\n",
    "        if verbose:\n",
    "            print(f'LOSS train {avg_loss:6.5f} valid {avg_vloss:6.4f}\\n')\n",
    "    \n",
    "        # Log the running loss averaged per batch\n",
    "        # for both training and validation\n",
    "        writer.add_scalars('Training vs. Validation Loss',\n",
    "                           {'Training': avg_loss, 'Validation': avg_vloss},\n",
    "                           epoch + 1)\n",
    "        writer.flush()\n",
    "    \n",
    "        # track the best performance, and save the model's state\n",
    "        if avg_vloss < best_vloss:\n",
    "            best_vloss = avg_vloss\n",
    "            model_path = model_path + f'model_{timestamp}_{epoch}'\n",
    "            torch.save(net.state_dict(), model_path)\n",
    "            \n",
    "    if verbose:\n",
    "        print('Done.')\n",
    "    return model_path"
   ],
   "id": "4cc0c48efced3b8",
   "outputs": [],
   "execution_count": 6
  },
  {
   "metadata": {
    "ExecuteTime": {
     "end_time": "2024-08-30T20:37:15.759878Z",
     "start_time": "2024-08-30T20:37:15.755609Z"
    }
   },
   "cell_type": "code",
   "source": [
    "def get_acc(model,\n",
    "            dataloader):\n",
    "    model.eval()\n",
    "    running_corrects = 0\n",
    "    predications = []\n",
    "    \n",
    "    for i, (tinputs, tlabels) in enumerate(dataloader):\n",
    "        toutputs = net(tinputs)\n",
    "        toutputs = torch.argmax(toutputs, dim=1)\n",
    "        running_corrects += torch.sum(toutputs == tlabels.data)\n",
    "        predications += toutputs.tolist()\n",
    "        \n",
    "    acc = running_corrects.float() / (len(dataloader) * 4)\n",
    "    return acc"
   ],
   "id": "69b84703572f6596",
   "outputs": [],
   "execution_count": 7
  },
  {
   "metadata": {},
   "cell_type": "markdown",
   "source": "# Acquisition Functions",
   "id": "4cf4f158f9d454b1"
  },
  {
   "metadata": {
    "ExecuteTime": {
     "end_time": "2024-08-30T20:37:16.059264Z",
     "start_time": "2024-08-30T20:37:16.055681Z"
    }
   },
   "cell_type": "code",
   "source": [
    "def perform_acquisition(model,\n",
    "                        acquisition_function,\n",
    "                        X_train,\n",
    "                        y_train,\n",
    "                        X_pool,\n",
    "                        y_pool):\n",
    "    idx = acquisition_function(model, X_pool)\n",
    "    \n",
    "    chosen_X_pool = X_pool[idx]\n",
    "    chosen_y_pool = y_pool[idx]\n",
    "    \n",
    "    new_X_train = torch.concatenate([X_train, chosen_X_pool], 0)\n",
    "    new_y_train = torch.concatenate([y_train, chosen_y_pool], 0)\n",
    "    \n",
    "    new_X_pool = X_pool[~torch.isin(torch.arange(len(X_pool)), idx)]\n",
    "    new_y_pool = y_pool[~torch.isin(torch.arange(len(y_pool)), idx)]\n",
    "    \n",
    "    return new_X_train, new_y_train, new_X_pool, new_y_pool\n",
    "\n",
    "def random(model,\n",
    "           X_pool,\n",
    "           size=100):\n",
    "    idx = np.random.choice(range(len(X_pool)), size=size, replace=False)\n",
    "    idx = torch.from_numpy(idx)\n",
    "    return idx"
   ],
   "id": "fd50050bc75765b5",
   "outputs": [],
   "execution_count": 8
  },
  {
   "metadata": {},
   "cell_type": "markdown",
   "source": "# Experiments",
   "id": "d6f7d0ab4975339a"
  },
  {
   "metadata": {},
   "cell_type": "markdown",
   "source": "## Training on Full Dataset",
   "id": "6cfa4de24881f36f"
  },
  {
   "metadata": {
    "ExecuteTime": {
     "end_time": "2024-08-30T16:13:11.605931Z",
     "start_time": "2024-08-30T16:10:57.280018Z"
    }
   },
   "cell_type": "code",
   "source": [
    "torch.manual_seed(SEED)\n",
    "np.random.seed(SEED)\n",
    "\n",
    "net = LeNet()\n",
    "model_parameters = filter(lambda p: p.requires_grad, net.parameters())\n",
    "params = sum([np.prod(p.size()) for p in model_parameters])\n",
    "print(net)\n",
    "print(f\"number of trainable parameters: {params}\")\n",
    "\n",
    "optimizer = torch.optim.SGD(net.parameters(), lr=0.001, momentum=0.9)\n",
    "loss_fn = torch.nn.CrossEntropyLoss()\n",
    "\n",
    "# recombine train, pool, and val set to train on the full dataset\n",
    "train_set = torch.utils.data.TensorDataset(\n",
    "    torch.concatenate([X_train, X_pool, X_val], 0),\n",
    "    torch.concatenate([y_train, y_pool, y_val], 0))\n",
    "train_loader = torch.utils.data.DataLoader(train_set, batch_size=4, shuffle=True)\n",
    "\n",
    "path = run_training(net,\n",
    "                    train_loader=train_loader,\n",
    "                    val_loader=val_loader,\n",
    "                    optimizer=optimizer,\n",
    "                    loss_fn=loss_fn,\n",
    "                    n_epochs=5,\n",
    "                    verbose=True)\n",
    "\n",
    "# path = MODEL_SAVE_PATH + '20240830_181057/model_20240830_181057_0model_20240830_181057_2'\n",
    "best_model = LeNet()\n",
    "best_model.load_state_dict(torch.load(path, weights_only=True))\n",
    "acc = get_acc(best_model, test_loader)\n",
    "print(f'accuracy of best model: {acc:.4f}')"
   ],
   "id": "7389955575cb4bf1",
   "outputs": [
    {
     "name": "stdout",
     "output_type": "stream",
     "text": [
      "EPOCH 1:\n",
      "  batch   5_000 train loss: 0.6871\n",
      "  batch  10_000 train loss: 0.2184\n",
      "  batch  15_000 train loss: 0.1771\n",
      "LOSS train 0.17706 valid 0.0234\n",
      "\n",
      "Done.\n",
      "EPOCH 2:\n",
      "  batch   5_000 train loss: 0.1489\n",
      "  batch  10_000 train loss: 0.1337\n",
      "  batch  15_000 train loss: 0.1236\n",
      "LOSS train 0.12356 valid 0.0495\n",
      "\n",
      "Done.\n",
      "EPOCH 3:\n",
      "  batch   5_000 train loss: 0.1129\n",
      "  batch  10_000 train loss: 0.1061\n",
      "  batch  15_000 train loss: 0.0996\n",
      "LOSS train 0.09962 valid 0.0024\n",
      "\n",
      "Done.\n",
      "EPOCH 4:\n",
      "  batch   5_000 train loss: 0.1024\n",
      "  batch  10_000 train loss: 0.0919\n",
      "  batch  15_000 train loss: 0.0878\n",
      "LOSS train 0.08776 valid 0.0152\n",
      "\n",
      "Done.\n",
      "EPOCH 5:\n",
      "  batch   5_000 train loss: 0.0916\n",
      "  batch  10_000 train loss: 0.0833\n",
      "  batch  15_000 train loss: 0.0811\n",
      "LOSS train 0.08115 valid 0.0091\n",
      "\n",
      "Done.\n"
     ]
    }
   ],
   "execution_count": 95
  },
  {
   "metadata": {},
   "cell_type": "markdown",
   "source": "## Active Learning",
   "id": "f6e191afc0aa1d2e"
  },
  {
   "metadata": {},
   "cell_type": "markdown",
   "source": "### Random",
   "id": "92203e4294441a00"
  },
  {
   "metadata": {
    "ExecuteTime": {
     "end_time": "2024-08-30T20:46:17.268532Z",
     "start_time": "2024-08-30T20:45:32.608829Z"
    }
   },
   "cell_type": "code",
   "source": [
    "torch.manual_seed(SEED)\n",
    "np.random.seed(SEED)\n",
    "\n",
    "runs = []\n",
    "\n",
    "for run in tqdm(range(3), desc='Runs'):\n",
    "    # print('\\n' + '='*75 + '\\n' + '='*75)\n",
    "    # print(f'Run {run+1}')\n",
    "    \n",
    "    running_X_train = X_train\n",
    "    running_y_train = y_train\n",
    "    \n",
    "    running_X_pool = X_pool\n",
    "    running_y_pool = y_pool\n",
    "    \n",
    "    accuracies = {'acq step': [], 'train size': [], 'acc': []}\n",
    "    \n",
    "    # do 50 acquisition steps\n",
    "    for i in tqdm(range(10), desc='Acquisition steps', leave=False):\n",
    "        \n",
    "        net = LeNet()\n",
    "        optimizer = torch.optim.SGD(net.parameters(), lr=0.001, momentum=0.9)\n",
    "        loss_fn = torch.nn.CrossEntropyLoss()\n",
    "    \n",
    "        train_set = torch.utils.data.TensorDataset(running_X_train, running_y_train)\n",
    "        train_loader = torch.utils.data.DataLoader(train_set, batch_size=4, shuffle=True)\n",
    "        \n",
    "        path = run_training(net,\n",
    "                            train_loader=train_loader,\n",
    "                            val_loader=val_loader,\n",
    "                            optimizer=optimizer,\n",
    "                            loss_fn=loss_fn,\n",
    "                            n_epochs=2,\n",
    "                            verbose=False)\n",
    "    \n",
    "        best_model = LeNet()\n",
    "        best_model.load_state_dict(torch.load(path, weights_only=True))\n",
    "        acc = get_acc(best_model, test_loader)\n",
    "        accuracies['acq step'].append(i)\n",
    "        accuracies['train size'].append(running_X_train.shape[0])\n",
    "        accuracies['acc'].append(acc)\n",
    "        \n",
    "        # print('\\n' + '='*75)\n",
    "        # print(f'Acquisition step {i:3d} - train size: {running_X_train.shape[0]:6_d}, test accuracy: {acc:6.4f}')\n",
    "        # print('\\n')\n",
    "        \n",
    "        running_X_train, running_y_train, running_X_pool, running_y_pool\\\n",
    "            = perform_acquisition(model=net,\n",
    "                                  acquisition_function=random,\n",
    "                                  X_train=running_X_train,\n",
    "                                  y_train=running_y_train,\n",
    "                                  X_pool=running_X_pool,\n",
    "                                  y_pool=running_y_pool)\n",
    "    runs.append(accuracies)"
   ],
   "id": "3bf17c75b773c9b6",
   "outputs": [
    {
     "data": {
      "text/plain": [
       "Runs:   0%|          | 0/3 [00:00<?, ?it/s]"
      ],
      "application/vnd.jupyter.widget-view+json": {
       "version_major": 2,
       "version_minor": 0,
       "model_id": "21a01f36b12b42dfa3fdaa6ad82f6c3a"
      }
     },
     "metadata": {},
     "output_type": "display_data"
    },
    {
     "data": {
      "text/plain": [
       "Acquisition steps:   0%|          | 0/10 [00:00<?, ?it/s]"
      ],
      "application/vnd.jupyter.widget-view+json": {
       "version_major": 2,
       "version_minor": 0,
       "model_id": "b87e0e74dd014700b6026bacda132c07"
      }
     },
     "metadata": {},
     "output_type": "display_data"
    },
    {
     "data": {
      "text/plain": [
       "Acquisition steps:   0%|          | 0/10 [00:00<?, ?it/s]"
      ],
      "application/vnd.jupyter.widget-view+json": {
       "version_major": 2,
       "version_minor": 0,
       "model_id": "a184898dc9ef4b089d7ba70f086e0c5a"
      }
     },
     "metadata": {},
     "output_type": "display_data"
    },
    {
     "data": {
      "text/plain": [
       "Acquisition steps:   0%|          | 0/10 [00:00<?, ?it/s]"
      ],
      "application/vnd.jupyter.widget-view+json": {
       "version_major": 2,
       "version_minor": 0,
       "model_id": "412eb24b28534b52a3c1b624f3cc5ac4"
      }
     },
     "metadata": {},
     "output_type": "display_data"
    }
   ],
   "execution_count": 13
  },
  {
   "metadata": {
    "ExecuteTime": {
     "end_time": "2024-08-30T20:46:36.811960Z",
     "start_time": "2024-08-30T20:46:36.736599Z"
    }
   },
   "cell_type": "code",
   "source": [
    "x = runs[0]['train size']\n",
    "y = np.mean([run['acc'] for run in runs], axis=0)\n",
    "\n",
    "plt.plot(x, y)\n",
    "plt.show()"
   ],
   "id": "a13d29d41ffbb235",
   "outputs": [
    {
     "data": {
      "text/plain": [
       "<Figure size 640x480 with 1 Axes>"
      ],
      "image/png": "[encoded data removed]"
     },
     "metadata": {},
     "output_type": "display_data"
    }
   ],
   "execution_count": 16
  }
 ],
 "metadata": {
  "kernelspec": {
   "display_name": "Python 3",
   "language": "python",
   "name": "python3"
  },
  "language_info": {
   "codemirror_mode": {
    "name": "ipython",
    "version": 2
   },
   "file_extension": ".py",
   "mimetype": "text/x-python",
   "name": "python",
   "nbconvert_exporter": "python",
   "pygments_lexer": "ipython2",
   "version": "2.7.6"
  }
 },
 "nbformat": 4,
 "nbformat_minor": 5
}
