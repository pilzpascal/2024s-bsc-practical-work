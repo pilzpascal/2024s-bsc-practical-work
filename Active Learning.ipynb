{
 "cells": [
  {
   "cell_type": "code",
   "id": "initial_id",
   "metadata": {
    "collapsed": true,
    "ExecuteTime": {
     "end_time": "2024-09-03T18:38:14.863372Z",
     "start_time": "2024-09-03T18:38:12.699049Z"
    }
   },
   "source": [
    "import pickle\n",
    "\n",
    "import matplotlib.pyplot as plt\n",
    "import torch\n",
    "import numpy as np\n",
    "\n",
    "from utils import run_experiments, visualise_active_learning_experiments, visualise_most_and_least_informative_samples\n",
    "from acquisition_functions import random\n",
    "from networks import LeNet\n",
    "\n",
    "SEED = 1\n",
    "MODEL_SAVE_PATH = '/Users/pascalpilz/Documents/Bsc Thesis/models/'"
   ],
   "outputs": [],
   "execution_count": 1
  },
  {
   "metadata": {},
   "cell_type": "markdown",
   "source": "# Active Learning Experiments",
   "id": "89c298a77122a283"
  },
  {
   "metadata": {
    "ExecuteTime": {
     "end_time": "2024-09-03T18:38:46.501426Z",
     "start_time": "2024-09-03T18:38:18.323633Z"
    }
   },
   "cell_type": "code",
   "source": [
    "torch.manual_seed(SEED)\n",
    "np.random.seed(SEED)\n",
    "\n",
    "# this is the experiment template, for all actual experiments you should only change the acquisition function\n",
    "base_experiment = {'acquisition_function': None,\n",
    "                   'n_acquisition_steps': 2,\n",
    "                   'n_samples_to_acquire': 10,\n",
    "                   'n_epochs': 100}\n",
    "\n",
    "random_params = base_experiment.copy()\n",
    "random_params['acquisition_function'] = random\n",
    "\n",
    "experiments = [random_params]\n",
    "experiment_results, save_path = run_experiments(experiments, model_save_path=MODEL_SAVE_PATH, n_runs=2, seed=SEED)"
   ],
   "id": "728667dbcf2ef2c2",
   "outputs": [
    {
     "data": {
      "text/plain": [
       "Experiments:   0%|          | 0/1 [00:00<?, ?it/s]"
      ],
      "application/vnd.jupyter.widget-view+json": {
       "version_major": 2,
       "version_minor": 0,
       "model_id": "d82c2e7d990648a2b323e43058df9f14"
      }
     },
     "metadata": {},
     "output_type": "display_data"
    },
    {
     "data": {
      "text/plain": [
       "Runs per Experiment:   0%|          | 0/2 [00:00<?, ?it/s]"
      ],
      "application/vnd.jupyter.widget-view+json": {
       "version_major": 2,
       "version_minor": 0,
       "model_id": "f9b2309770284c59b7a92c3cbe6d36d3"
      }
     },
     "metadata": {},
     "output_type": "display_data"
    },
    {
     "data": {
      "text/plain": [
       "Acquisition Steps:   0%|          | 0/3 [00:00<?, ?it/s]"
      ],
      "application/vnd.jupyter.widget-view+json": {
       "version_major": 2,
       "version_minor": 0,
       "model_id": "07a6b7a369dd47d6afee4bab687274ac"
      }
     },
     "metadata": {},
     "output_type": "display_data"
    },
    {
     "data": {
      "text/plain": [
       "Training Epochs with Training size 20: 0it [00:00, ?it/s]"
      ],
      "application/vnd.jupyter.widget-view+json": {
       "version_major": 2,
       "version_minor": 0,
       "model_id": "6109a339c635470daf93e40d8c5da5be"
      }
     },
     "metadata": {},
     "output_type": "display_data"
    },
    {
     "data": {
      "text/plain": [
       "Training Epochs with Training size 30: 0it [00:00, ?it/s]"
      ],
      "application/vnd.jupyter.widget-view+json": {
       "version_major": 2,
       "version_minor": 0,
       "model_id": "b9570fec4a31457d945f48d64f639217"
      }
     },
     "metadata": {},
     "output_type": "display_data"
    },
    {
     "data": {
      "text/plain": [
       "Training Epochs with Training size 40: 0it [00:00, ?it/s]"
      ],
      "application/vnd.jupyter.widget-view+json": {
       "version_major": 2,
       "version_minor": 0,
       "model_id": "39b27495ceea4382b00f7bc75a721a11"
      }
     },
     "metadata": {},
     "output_type": "display_data"
    },
    {
     "data": {
      "text/plain": [
       "Acquisition Steps:   0%|          | 0/3 [00:00<?, ?it/s]"
      ],
      "application/vnd.jupyter.widget-view+json": {
       "version_major": 2,
       "version_minor": 0,
       "model_id": "8ce1c82324d84d4589839e2141ad3e2f"
      }
     },
     "metadata": {},
     "output_type": "display_data"
    },
    {
     "data": {
      "text/plain": [
       "Training Epochs with Training size 20: 0it [00:00, ?it/s]"
      ],
      "application/vnd.jupyter.widget-view+json": {
       "version_major": 2,
       "version_minor": 0,
       "model_id": "1c9941c518834975b4491cf58e97b52d"
      }
     },
     "metadata": {},
     "output_type": "display_data"
    },
    {
     "data": {
      "text/plain": [
       "Training Epochs with Training size 30: 0it [00:00, ?it/s]"
      ],
      "application/vnd.jupyter.widget-view+json": {
       "version_major": 2,
       "version_minor": 0,
       "model_id": "d36fbdd8ac0442e783a706597dd916f0"
      }
     },
     "metadata": {},
     "output_type": "display_data"
    },
    {
     "data": {
      "text/plain": [
       "Training Epochs with Training size 40: 0it [00:00, ?it/s]"
      ],
      "application/vnd.jupyter.widget-view+json": {
       "version_major": 2,
       "version_minor": 0,
       "model_id": "d497b428b5b84474bc01a0b6539729a7"
      }
     },
     "metadata": {},
     "output_type": "display_data"
    }
   ],
   "execution_count": 2
  },
  {
   "metadata": {
    "ExecuteTime": {
     "end_time": "2024-09-03T18:39:00.022848Z",
     "start_time": "2024-09-03T18:38:59.894806Z"
    }
   },
   "cell_type": "code",
   "source": [
    "# save_path = './Experiment Results/exp_id-20240902_110408'\n",
    "with open(save_path, 'rb') as handle:\n",
    "    loaded_experiment_results = pickle.load(handle)\n",
    "\n",
    "visualise_active_learning_experiments(loaded_experiment_results)"
   ],
   "id": "2fdd0920e763d720",
   "outputs": [
    {
     "name": "stderr",
     "output_type": "stream",
     "text": [
      "/Users/pascalpilz/miniconda3/envs/al/lib/python3.12/site-packages/torch/storage.py:414: FutureWarning: You are using `torch.load` with `weights_only=False` (the current default value), which uses the default pickle module implicitly. It is possible to construct malicious pickle data which will execute arbitrary code during unpickling (See https://github.com/pytorch/pytorch/blob/main/SECURITY.md#untrusted-models for more details). In a future release, the default value for `weights_only` will be flipped to `True`. This limits the functions that could be executed during unpickling. Arbitrary objects will no longer be allowed to be loaded via this mode unless they are explicitly allowlisted by the user via `torch.serialization.add_safe_globals`. We recommend you start setting `weights_only=True` for any use case where you don't have full control of the loaded file. Please open an issue on GitHub for any issues related to this experimental feature.\n",
      "  return torch.load(io.BytesIO(b))\n"
     ]
    },
    {
     "data": {
      "text/plain": [
       "<Figure size 640x480 with 1 Axes>"
      ],
      "image/png": "[encoded data removed]"
     },
     "metadata": {},
     "output_type": "display_data"
    }
   ],
   "execution_count": 3
  },
  {
   "metadata": {
    "ExecuteTime": {
     "end_time": "2024-09-03T15:52:19.691173Z",
     "start_time": "2024-09-03T15:52:11.583376Z"
    }
   },
   "cell_type": "code",
   "source": [
    "from utils import get_datasets\n",
    "\n",
    "X_train, y_train, X_pool, y_pool, X_val, y_val, X_test, y_test = get_datasets()"
   ],
   "id": "abbb328d6144638b",
   "outputs": [],
   "execution_count": 2
  },
  {
   "metadata": {
    "ExecuteTime": {
     "end_time": "2024-09-03T18:32:53.018142Z",
     "start_time": "2024-09-03T18:32:53.008632Z"
    }
   },
   "cell_type": "code",
   "source": [
    "path = MODEL_SAVE_PATH + 'expID-20240902_110347/model_20240902_110347_46'\n",
    "model = LeNet()\n",
    "model.load_state_dict(torch.load(path, weights_only=True))"
   ],
   "id": "9b6f7d34b17999a8",
   "outputs": [
    {
     "data": {
      "text/plain": [
       "<All keys matched successfully>"
      ]
     },
     "execution_count": 7,
     "metadata": {},
     "output_type": "execute_result"
    }
   ],
   "execution_count": 7
  },
  {
   "metadata": {
    "ExecuteTime": {
     "end_time": "2024-09-03T18:32:55.547487Z",
     "start_time": "2024-09-03T18:32:54.817686Z"
    }
   },
   "cell_type": "code",
   "source": [
    "vals = random(model, X_pool)\n",
    "visualise_most_and_least_informative_samples(vals, X_pool, y_pool, n_least=10)"
   ],
   "id": "ab149b0cb3cb8e66",
   "outputs": [
    {
     "ename": "NameError",
     "evalue": "name 'X_pool' is not defined",
     "output_type": "error",
     "traceback": [
      "\u001B[0;31m---------------------------------------------------------------------------\u001B[0m",
      "\u001B[0;31mNameError\u001B[0m                                 Traceback (most recent call last)",
      "Cell \u001B[0;32mIn[8], line 1\u001B[0m\n\u001B[0;32m----> 1\u001B[0m vals \u001B[38;5;241m=\u001B[39m random(model, X_pool)\n\u001B[1;32m      2\u001B[0m visualise_most_and_least_informative_samples(vals, X_pool, y_pool, n_least\u001B[38;5;241m=\u001B[39m\u001B[38;5;241m10\u001B[39m)\n",
      "\u001B[0;31mNameError\u001B[0m: name 'X_pool' is not defined"
     ]
    }
   ],
   "execution_count": 8
  },
  {
   "metadata": {},
   "cell_type": "markdown",
   "source": "",
   "id": "eba953494a1437a0"
  }
 ],
 "metadata": {
  "kernelspec": {
   "display_name": "Python 3",
   "language": "python",
   "name": "python3"
  },
  "language_info": {
   "codemirror_mode": {
    "name": "ipython",
    "version": 2
   },
   "file_extension": ".py",
   "mimetype": "text/x-python",
   "name": "python",
   "nbconvert_exporter": "python",
   "pygments_lexer": "ipython2",
   "version": "2.7.6"
  }
 },
 "nbformat": 4,
 "nbformat_minor": 5
}
